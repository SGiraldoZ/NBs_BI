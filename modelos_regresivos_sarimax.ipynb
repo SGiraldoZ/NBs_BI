{
 "cells": [
  {
   "cell_type": "markdown",
   "metadata": {},
   "source": [
    "## Librerías"
   ]
  },
  {
   "cell_type": "code",
   "execution_count": 26,
   "metadata": {},
   "outputs": [],
   "source": [
    "# Tratamientos de datos y gráficos\n",
    "import numpy as np\n",
    "import pandas as pd\n",
    "import matplotlib.pyplot as plt\n",
    "\n",
    "#Pmdarima\n",
    "from pmdarima import ARIMA\n",
    "from pmdarima import auto_arima\n",
    "\n",
    "#Statsmodels\n",
    "from statsmodels.tsa.statespace.sarimax import SARIMAX\n",
    "from statsmodels.tsa.stattools import adfuller\n",
    "from statsmodels.tsa.stattools import kpss\n",
    "from statsmodels.graphics.tsaplots import plot_acf, plot_pacf\n",
    "from statsmodels.tsa.seasonal import seasonal_decompose\n",
    "\n",
    "#Metricas\n",
    "from sklearn.metrics import mean_absolute_percentage_error\n",
    "\n",
    "#Skforecast\n",
    "# from skforecast.Sarimax import Sarimax\n",
    "# from skforecast.ForecasterSarimax import ForecasterSarimax\n",
    "\n",
    "#Advertencias\n",
    "import warnings\n",
    "warnings.filterwarnings('ignore')"
   ]
  },
  {
   "cell_type": "markdown",
   "metadata": {},
   "source": [
    "## Datos\n",
    "Resumen del consumo mensual de combustible en españa"
   ]
  },
  {
   "cell_type": "code",
   "execution_count": 22,
   "metadata": {},
   "outputs": [
    {
     "data": {
      "text/html": [
       "<div>\n",
       "<style scoped>\n",
       "    .dataframe tbody tr th:only-of-type {\n",
       "        vertical-align: middle;\n",
       "    }\n",
       "\n",
       "    .dataframe tbody tr th {\n",
       "        vertical-align: top;\n",
       "    }\n",
       "\n",
       "    .dataframe thead th {\n",
       "        text-align: right;\n",
       "    }\n",
       "</style>\n",
       "<table border=\"1\" class=\"dataframe\">\n",
       "  <thead>\n",
       "    <tr style=\"text-align: right;\">\n",
       "      <th></th>\n",
       "      <th>Fecha</th>\n",
       "      <th>GLPs</th>\n",
       "      <th>Gasolinas</th>\n",
       "      <th>Querosenos</th>\n",
       "      <th>Gasoleos</th>\n",
       "      <th>Fueloleos</th>\n",
       "    </tr>\n",
       "  </thead>\n",
       "  <tbody>\n",
       "    <tr>\n",
       "      <th>0</th>\n",
       "      <td>1969-01-01</td>\n",
       "      <td>133615.09620</td>\n",
       "      <td>166875.2129</td>\n",
       "      <td>123257.8090</td>\n",
       "      <td>4.011853e+05</td>\n",
       "      <td>912583.4202</td>\n",
       "    </tr>\n",
       "    <tr>\n",
       "      <th>1</th>\n",
       "      <td>1969-02-01</td>\n",
       "      <td>126748.47410</td>\n",
       "      <td>155466.8105</td>\n",
       "      <td>114682.5767</td>\n",
       "      <td>3.853600e+05</td>\n",
       "      <td>851877.8115</td>\n",
       "    </tr>\n",
       "    <tr>\n",
       "      <th>2</th>\n",
       "      <td>1969-03-01</td>\n",
       "      <td>107795.80910</td>\n",
       "      <td>184983.6699</td>\n",
       "      <td>109970.0796</td>\n",
       "      <td>4.189556e+05</td>\n",
       "      <td>873884.2933</td>\n",
       "    </tr>\n",
       "    <tr>\n",
       "      <th>3</th>\n",
       "      <td>1969-04-01</td>\n",
       "      <td>96683.15967</td>\n",
       "      <td>202319.8164</td>\n",
       "      <td>108797.9255</td>\n",
       "      <td>4.389755e+05</td>\n",
       "      <td>755490.1170</td>\n",
       "    </tr>\n",
       "    <tr>\n",
       "      <th>4</th>\n",
       "      <td>1969-05-01</td>\n",
       "      <td>79506.23804</td>\n",
       "      <td>206259.1523</td>\n",
       "      <td>103554.0784</td>\n",
       "      <td>4.674519e+05</td>\n",
       "      <td>729963.6009</td>\n",
       "    </tr>\n",
       "    <tr>\n",
       "      <th>...</th>\n",
       "      <td>...</td>\n",
       "      <td>...</td>\n",
       "      <td>...</td>\n",
       "      <td>...</td>\n",
       "      <td>...</td>\n",
       "      <td>...</td>\n",
       "    </tr>\n",
       "    <tr>\n",
       "      <th>639</th>\n",
       "      <td>2022-04-01</td>\n",
       "      <td>179591.64000</td>\n",
       "      <td>471601.9400</td>\n",
       "      <td>494966.3200</td>\n",
       "      <td>2.638030e+06</td>\n",
       "      <td>636930.4200</td>\n",
       "    </tr>\n",
       "    <tr>\n",
       "      <th>640</th>\n",
       "      <td>2022-05-01</td>\n",
       "      <td>134166.56000</td>\n",
       "      <td>478873.4100</td>\n",
       "      <td>530034.0100</td>\n",
       "      <td>2.673797e+06</td>\n",
       "      <td>708289.2600</td>\n",
       "    </tr>\n",
       "    <tr>\n",
       "      <th>641</th>\n",
       "      <td>2022-06-01</td>\n",
       "      <td>142480.09000</td>\n",
       "      <td>501447.1400</td>\n",
       "      <td>540594.9700</td>\n",
       "      <td>2.648087e+06</td>\n",
       "      <td>667221.4500</td>\n",
       "    </tr>\n",
       "    <tr>\n",
       "      <th>642</th>\n",
       "      <td>2022-07-01</td>\n",
       "      <td>135984.49000</td>\n",
       "      <td>534584.6800</td>\n",
       "      <td>607854.6800</td>\n",
       "      <td>2.613591e+06</td>\n",
       "      <td>691371.6000</td>\n",
       "    </tr>\n",
       "    <tr>\n",
       "      <th>643</th>\n",
       "      <td>2022-08-01</td>\n",
       "      <td>119104.84000</td>\n",
       "      <td>565761.9600</td>\n",
       "      <td>596051.0800</td>\n",
       "      <td>2.572012e+06</td>\n",
       "      <td>701384.4100</td>\n",
       "    </tr>\n",
       "  </tbody>\n",
       "</table>\n",
       "<p>644 rows × 6 columns</p>\n",
       "</div>"
      ],
      "text/plain": [
       "          Fecha          GLPs    Gasolinas   Querosenos      Gasoleos  \\\n",
       "0    1969-01-01  133615.09620  166875.2129  123257.8090  4.011853e+05   \n",
       "1    1969-02-01  126748.47410  155466.8105  114682.5767  3.853600e+05   \n",
       "2    1969-03-01  107795.80910  184983.6699  109970.0796  4.189556e+05   \n",
       "3    1969-04-01   96683.15967  202319.8164  108797.9255  4.389755e+05   \n",
       "4    1969-05-01   79506.23804  206259.1523  103554.0784  4.674519e+05   \n",
       "..          ...           ...          ...          ...           ...   \n",
       "639  2022-04-01  179591.64000  471601.9400  494966.3200  2.638030e+06   \n",
       "640  2022-05-01  134166.56000  478873.4100  530034.0100  2.673797e+06   \n",
       "641  2022-06-01  142480.09000  501447.1400  540594.9700  2.648087e+06   \n",
       "642  2022-07-01  135984.49000  534584.6800  607854.6800  2.613591e+06   \n",
       "643  2022-08-01  119104.84000  565761.9600  596051.0800  2.572012e+06   \n",
       "\n",
       "       Fueloleos  \n",
       "0    912583.4202  \n",
       "1    851877.8115  \n",
       "2    873884.2933  \n",
       "3    755490.1170  \n",
       "4    729963.6009  \n",
       "..           ...  \n",
       "639  636930.4200  \n",
       "640  708289.2600  \n",
       "641  667221.4500  \n",
       "642  691371.6000  \n",
       "643  701384.4100  \n",
       "\n",
       "[644 rows x 6 columns]"
      ]
     },
     "execution_count": 22,
     "metadata": {},
     "output_type": "execute_result"
    }
   ],
   "source": [
    "datos = pd.read_csv('https://raw.githubusercontent.com/JoaquinAmatRodrigo/Estadistica-machine-learning-python/master/data/consumos-combustibles-mensual.csv', sep = ',')\n",
    "datos"
   ]
  },
  {
   "cell_type": "code",
   "execution_count": 23,
   "metadata": {},
   "outputs": [
    {
     "data": {
      "text/html": [
       "<div>\n",
       "<style scoped>\n",
       "    .dataframe tbody tr th:only-of-type {\n",
       "        vertical-align: middle;\n",
       "    }\n",
       "\n",
       "    .dataframe tbody tr th {\n",
       "        vertical-align: top;\n",
       "    }\n",
       "\n",
       "    .dataframe thead th {\n",
       "        text-align: right;\n",
       "    }\n",
       "</style>\n",
       "<table border=\"1\" class=\"dataframe\">\n",
       "  <thead>\n",
       "    <tr style=\"text-align: right;\">\n",
       "      <th></th>\n",
       "      <th>litters</th>\n",
       "    </tr>\n",
       "    <tr>\n",
       "      <th>date</th>\n",
       "      <th></th>\n",
       "    </tr>\n",
       "  </thead>\n",
       "  <tbody>\n",
       "    <tr>\n",
       "      <th>1969-01-01</th>\n",
       "      <td>166875.2129</td>\n",
       "    </tr>\n",
       "    <tr>\n",
       "      <th>1969-02-01</th>\n",
       "      <td>155466.8105</td>\n",
       "    </tr>\n",
       "    <tr>\n",
       "      <th>1969-03-01</th>\n",
       "      <td>184983.6699</td>\n",
       "    </tr>\n",
       "    <tr>\n",
       "      <th>1969-04-01</th>\n",
       "      <td>202319.8164</td>\n",
       "    </tr>\n",
       "    <tr>\n",
       "      <th>1969-05-01</th>\n",
       "      <td>206259.1523</td>\n",
       "    </tr>\n",
       "  </tbody>\n",
       "</table>\n",
       "</div>"
      ],
      "text/plain": [
       "                litters\n",
       "date                   \n",
       "1969-01-01  166875.2129\n",
       "1969-02-01  155466.8105\n",
       "1969-03-01  184983.6699\n",
       "1969-04-01  202319.8164\n",
       "1969-05-01  206259.1523"
      ]
     },
     "execution_count": 23,
     "metadata": {},
     "output_type": "execute_result"
    }
   ],
   "source": [
    "datos = datos[['Fecha', 'Gasolinas']]\n",
    "datos = datos.rename(columns={'Fecha': 'date', 'Gasolinas':'litters'})\n",
    "\n",
    "datos['date'] = pd.to_datetime(datos['date'], format='%Y-%m-%d')\n",
    "datos.set_index('date', inplace=True)\n",
    "datos.head()"
   ]
  },
  {
   "cell_type": "code",
   "execution_count": 24,
   "metadata": {},
   "outputs": [
    {
     "data": {
      "text/html": [
       "<div>\n",
       "<style scoped>\n",
       "    .dataframe tbody tr th:only-of-type {\n",
       "        vertical-align: middle;\n",
       "    }\n",
       "\n",
       "    .dataframe tbody tr th {\n",
       "        vertical-align: top;\n",
       "    }\n",
       "\n",
       "    .dataframe thead th {\n",
       "        text-align: right;\n",
       "    }\n",
       "</style>\n",
       "<table border=\"1\" class=\"dataframe\">\n",
       "  <thead>\n",
       "    <tr style=\"text-align: right;\">\n",
       "      <th></th>\n",
       "      <th>litters</th>\n",
       "    </tr>\n",
       "    <tr>\n",
       "      <th>date</th>\n",
       "      <th></th>\n",
       "    </tr>\n",
       "  </thead>\n",
       "  <tbody>\n",
       "    <tr>\n",
       "      <th>1969-01-01</th>\n",
       "      <td>166875.2129</td>\n",
       "    </tr>\n",
       "    <tr>\n",
       "      <th>1969-02-01</th>\n",
       "      <td>155466.8105</td>\n",
       "    </tr>\n",
       "    <tr>\n",
       "      <th>1969-03-01</th>\n",
       "      <td>184983.6699</td>\n",
       "    </tr>\n",
       "    <tr>\n",
       "      <th>1969-04-01</th>\n",
       "      <td>202319.8164</td>\n",
       "    </tr>\n",
       "    <tr>\n",
       "      <th>1969-05-01</th>\n",
       "      <td>206259.1523</td>\n",
       "    </tr>\n",
       "    <tr>\n",
       "      <th>...</th>\n",
       "      <td>...</td>\n",
       "    </tr>\n",
       "    <tr>\n",
       "      <th>1989-09-01</th>\n",
       "      <td>687649.2852</td>\n",
       "    </tr>\n",
       "    <tr>\n",
       "      <th>1989-10-01</th>\n",
       "      <td>669889.1602</td>\n",
       "    </tr>\n",
       "    <tr>\n",
       "      <th>1989-11-01</th>\n",
       "      <td>601413.8867</td>\n",
       "    </tr>\n",
       "    <tr>\n",
       "      <th>1989-12-01</th>\n",
       "      <td>663568.1055</td>\n",
       "    </tr>\n",
       "    <tr>\n",
       "      <th>1990-01-01</th>\n",
       "      <td>610241.2461</td>\n",
       "    </tr>\n",
       "  </tbody>\n",
       "</table>\n",
       "<p>253 rows × 1 columns</p>\n",
       "</div>"
      ],
      "text/plain": [
       "                litters\n",
       "date                   \n",
       "1969-01-01  166875.2129\n",
       "1969-02-01  155466.8105\n",
       "1969-03-01  184983.6699\n",
       "1969-04-01  202319.8164\n",
       "1969-05-01  206259.1523\n",
       "...                 ...\n",
       "1989-09-01  687649.2852\n",
       "1989-10-01  669889.1602\n",
       "1989-11-01  601413.8867\n",
       "1989-12-01  663568.1055\n",
       "1990-01-01  610241.2461\n",
       "\n",
       "[253 rows x 1 columns]"
      ]
     },
     "execution_count": 24,
     "metadata": {},
     "output_type": "execute_result"
    }
   ],
   "source": [
    "datos= datos.loc[:'1990-01-01']\n",
    "datos"
   ]
  },
  {
   "cell_type": "code",
   "execution_count": 25,
   "metadata": {},
   "outputs": [
    {
     "data": {
      "text/plain": [
       "pandas.core.series.Series"
      ]
     },
     "execution_count": 25,
     "metadata": {},
     "output_type": "execute_result"
    }
   ],
   "source": [
    "datos = datos.asfreq('MS')\n",
    "datos = datos['litters']\n",
    "type(datos) #Verificar que se vuelva serie de tiempo"
   ]
  },
  {
   "cell_type": "markdown",
   "metadata": {},
   "source": [
    "Crear un conjunto de ajuste y un conjunto de validación"
   ]
  },
  {
   "cell_type": "code",
   "execution_count": 30,
   "metadata": {},
   "outputs": [
    {
     "name": "stdout",
     "output_type": "stream",
     "text": [
      "Fechas ajuste: 1969-01-01 00:00:00 --- 1980-01-01 00:00:00 n=133\n",
      "Fechas validación: 1980-01-01 00:00:00 --- 1990-01-01 00:00:00 n=121\n"
     ]
    }
   ],
   "source": [
    "fin_ajuste = '1980-01-01'\n",
    "print(f'Fechas ajuste: {datos.index.min()} --- {datos.loc[:fin_ajuste].index.max()} n={len(datos.loc[:fin_ajuste])}')\n",
    "\n",
    "print(f'Fechas validación: {datos.loc[fin_ajuste:].index.min()} --- {datos.loc[fin_ajuste:].index.max()} n={len(datos.loc[fin_ajuste:])}')"
   ]
  },
  {
   "cell_type": "code",
   "execution_count": 34,
   "metadata": {},
   "outputs": [
    {
     "data": {
      "image/png": "[encoded data removed]",
      "text/plain": [
       "<Figure size 700x300 with 1 Axes>"
      ]
     },
     "metadata": {},
     "output_type": "display_data"
    }
   ],
   "source": [
    "datos_ajuste = datos.loc[:fin_ajuste]\n",
    "datos_validacion = datos.loc[fin_ajuste:]\n",
    "\n",
    "plt.figure(figsize=(7,3))\n",
    "\n",
    "datos_ajuste.plot(label = 'Ajuste')\n",
    "datos_validacion.plot(label = 'Validación')\n",
    "plt.legend()\n",
    "\n",
    "plt.show()\n"
   ]
  },
  {
   "cell_type": "markdown",
   "metadata": {},
   "source": [
    "## Análisis SARIMA\n",
    "\n",
    "1. Estacionariedad\n",
    "2. Autocorrelación\n",
    "3. Descomposición\n",
    "\n",
    "\n",
    "#### Estacionariedad\n",
    "\n",
    "- Test Dickey - Fuller\n",
    "- Test KPSS"
   ]
  },
  {
   "cell_type": "code",
   "execution_count": 35,
   "metadata": {},
   "outputs": [
    {
     "name": "stdout",
     "output_type": "stream",
     "text": [
      "Test de estacionariedad para la serie original\n",
      "----------------------------------------------\n",
      "Estadistico ADF: -0.44612980998228685, p-value: 0.9021071923942653\n",
      "Estadistico KPSS: 2.2096370946978388, p-value: 0.01\n"
     ]
    }
   ],
   "source": [
    "print('Test de estacionariedad para la serie original')\n",
    "print('----------------------------------------------')\n",
    "\n",
    "adfuller_result = adfuller(datos)\n",
    "kpss_result = kpss(datos)\n",
    "\n",
    "print(f'Estadistico ADF: {adfuller_result[0]}, p-value: {adfuller_result[1]}')\n",
    "\n",
    "print(f'Estadistico KPSS: {kpss_result[0]}, p-value: {kpss_result[1]}')"
   ]
  },
  {
   "cell_type": "code",
   "execution_count": 36,
   "metadata": {},
   "outputs": [
    {
     "name": "stdout",
     "output_type": "stream",
     "text": [
      "Test de estacionariedad para la serie diferencial en orden 1\n",
      "----------------------------------------------\n",
      "Estadistico ADF: -2.4592855854332734, p-value: 0.12569738231750477\n",
      "Estadistico KPSS: 0.3132711623572763, p-value: 0.1\n"
     ]
    }
   ],
   "source": [
    "datos_diff_1 = datos.diff().dropna()\n",
    "\n",
    "print('Test de estacionariedad para la serie diferencial en orden 1')\n",
    "print('----------------------------------------------')\n",
    "\n",
    "adfuller_result = adfuller(datos_diff_1)\n",
    "kpss_result = kpss(datos_diff_1)\n",
    "\n",
    "print(f'Estadistico ADF: {adfuller_result[0]}, p-value: {adfuller_result[1]}')\n",
    "\n",
    "print(f'Estadistico KPSS: {kpss_result[0]}, p-value: {kpss_result[1]}')"
   ]
  },
  {
   "cell_type": "code",
   "execution_count": 37,
   "metadata": {},
   "outputs": [
    {
     "name": "stdout",
     "output_type": "stream",
     "text": [
      "Test de estacionariedad para la serie diferencial en orden 1\n",
      "----------------------------------------------\n",
      "Estadistico ADF: -11.117483376374473, p-value: 3.533286742436514e-20\n",
      "Estadistico KPSS: 0.08065668267482089, p-value: 0.1\n"
     ]
    }
   ],
   "source": [
    "datos_diff_2 = datos_diff_1.diff().dropna()\n",
    "\n",
    "print('Test de estacionariedad para la serie diferencial en orden 1')\n",
    "print('----------------------------------------------')\n",
    "\n",
    "adfuller_result = adfuller(datos_diff_2)\n",
    "kpss_result = kpss(datos_diff_2)\n",
    "\n",
    "print(f'Estadistico ADF: {adfuller_result[0]}, p-value: {adfuller_result[1]}')\n",
    "\n",
    "print(f'Estadistico KPSS: {kpss_result[0]}, p-value: {kpss_result[1]}')"
   ]
  }
 ],
 "metadata": {
  "kernelspec": {
   "display_name": "BI",
   "language": "python",
   "name": "python3"
  },
  "language_info": {
   "codemirror_mode": {
    "name": "ipython",
    "version": 3
   },
   "file_extension": ".py",
   "mimetype": "text/x-python",
   "name": "python",
   "nbconvert_exporter": "python",
   "pygments_lexer": "ipython3",
   "version": "3.11.5"
  },
  "orig_nbformat": 4
 },
 "nbformat": 4,
 "nbformat_minor": 2
}
